{
 "cells": [
  {
   "cell_type": "code",
   "execution_count": 18,
   "metadata": {},
   "outputs": [
    {
     "name": "stderr",
     "output_type": "stream",
     "text": [
      "DEBUG:root:3.5.1 (default, Dec  7 2015, 21:59:10) \n",
      "[GCC 4.2.1 Compatible Apple LLVM 7.0.0 (clang-700.1.76)]\n",
      "DEBUG:urllib3.connectionpool:Starting new HTTPS connection (1): raw.githubusercontent.com\n",
      "DEBUG:urllib3.connectionpool:https://raw.githubusercontent.com:443 \"GET /andrewspiers/scratch/master/scratch.rst HTTP/1.1\" 200 10943\n"
     ]
    }
   ],
   "source": [
    "import docutils.parsers.rst\n",
    "import docutils.utils\n",
    "import requests\n",
    "\n",
    "import logging\n",
    "import sys\n",
    "logging.basicConfig(level = logging.DEBUG)\n",
    "\n",
    "\"\"\"references:\n",
    "    http://eli.thegreenplace.net/2017/a-brief-tutorial-on-parsing-restructuredtext-rest/\n",
    "\"\"\"\n",
    "\n",
    "source_url = \"https://raw.githubusercontent.com/andrewspiers/scratch/master/scratch.rst\"\n",
    "logging.debug(sys.version)\n",
    "r = requests.get(source_url)\n",
    "\n"
   ]
  },
  {
   "cell_type": "code",
   "execution_count": 17,
   "metadata": {},
   "outputs": [
    {
     "name": "stderr",
     "output_type": "stream",
     "text": [
      "DEBUG:root:default settings: {default_settings}\n"
     ]
    },
    {
     "name": "stdout",
     "output_type": "stream",
     "text": [
      "Help on method parse in module docutils.parsers.rst:\n",
      "\n",
      "parse(inputstring, document) method of docutils.parsers.rst.Parser instance\n",
      "    Parse `inputstring` and populate `document`, a document tree.\n",
      "\n"
     ]
    }
   ],
   "source": [
    "parser = docutils.parsers.rst.Parser()\n",
    "#help(docutils.utils.new_document)\n",
    "default_settings = docutils.frontend.OptionParser(\n",
    "        components=(docutils.parsers.rst.Parser,)).get_default_values()\n",
    "logging.debug(\"default settings: {default_settings}\")\n",
    "d = docutils.utils.new_document(\"\", default_settings)\n",
    "help(parser.parse) # need to create a new document to put the parse into.\n",
    "parser.parse(r.text, d)"
   ]
  },
  {
   "cell_type": "code",
   "execution_count": null,
   "metadata": {
    "collapsed": true
   },
   "outputs": [],
   "source": []
  }
 ],
 "metadata": {
  "kernelspec": {
   "display_name": "Python 3",
   "language": "python",
   "name": "python3"
  },
  "language_info": {
   "codemirror_mode": {
    "name": "ipython",
    "version": 3
   },
   "file_extension": ".py",
   "mimetype": "text/x-python",
   "name": "python",
   "nbconvert_exporter": "python",
   "pygments_lexer": "ipython3",
   "version": "3.5.1"
  }
 },
 "nbformat": 4,
 "nbformat_minor": 2
}
